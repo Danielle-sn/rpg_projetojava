{
  "nbformat": 4,
  "nbformat_minor": 0,
  "metadata": {
    "colab": {
      "provenance": [],
      "authorship_tag": "ABX9TyMENzxIfo1Ivrj8WJOj/Ddz",
      "include_colab_link": true
    },
    "kernelspec": {
      "name": "python3",
      "display_name": "Python 3"
    },
    "language_info": {
      "name": "python"
    }
  },
  "cells": [
    {
      "cell_type": "markdown",
      "metadata": {
        "id": "view-in-github",
        "colab_type": "text"
      },
      "source": [
        "<a href=\"https://colab.research.google.com/github/Danielle-sn/rpg_projetojava/blob/main/Estrutura_de_dados.ipynb\" target=\"_parent\"><img src=\"https://colab.research.google.com/assets/colab-badge.svg\" alt=\"Open In Colab\"/></a>"
      ]
    },
    {
      "cell_type": "markdown",
      "source": [
        "**Stack**\n"
      ],
      "metadata": {
        "id": "9JNETOl8bMap"
      }
    },
    {
      "cell_type": "code",
      "execution_count": null,
      "metadata": {
        "id": "eM0bW-WkSuyx",
        "colab": {
          "base_uri": "https://localhost:8080/"
        },
        "outputId": "ac4d51ad-3687-42d5-ce80-ece824858829"
      },
      "outputs": [
        {
          "output_type": "stream",
          "name": "stdout",
          "text": [
            "FOR:\n",
            "C\n",
            "B\n",
            "A\n",
            "\n",
            "WHIILE:\n",
            "C\n",
            "B\n",
            "A\n"
          ]
        }
      ],
      "source": [
        "from typing import List\n",
        "from copy import deepcopy\n",
        "\n",
        "stack: List[str] = []\n",
        "\n",
        "stack.append('A')\n",
        "stack.append('B')\n",
        "stack.append('C')\n",
        "\n",
        "print(\"FOR:\")\n",
        "for item in stack [::- 1]: #inverte a lista\n",
        "  print(item)\n",
        "\n",
        "#cópia\n",
        "\n",
        "stack_copy = deepcopy(stack)\n",
        "\n",
        "print('\\nWHIILE:')\n",
        "while stack_copy:\n",
        "  item = stack_copy.pop() # entre parênteses pode adicionar índice a ser removido (não é ideal para pilhas, não otimiza sua funcionalidade - O(n)\n",
        "  print(item)\n",
        "\n"
      ]
    },
    {
      "cell_type": "code",
      "source": [
        "from typing import List\n",
        "\n",
        "stack: List[str] = []\n",
        "\n",
        "stack.append('A')\n",
        "stack.append('B')\n",
        "stack.append('C')\n",
        "\n",
        "try:\n",
        "  top_item = stack.pop()#C\n",
        "  print(stack, top_item)\n",
        "  top_item = stack.pop()#B\n",
        "  print(stack, top_item)\n",
        "  top_item = stack.pop()#A\n",
        "  print(stack, top_item)\n",
        "  top_item = stack.pop()\n",
        "  print(stack, top_item)\n",
        "except IndexError:\n",
        "  print('Pilha está vazia')"
      ],
      "metadata": {
        "id": "olcKJER3aLXW",
        "colab": {
          "base_uri": "https://localhost:8080/"
        },
        "outputId": "180fbae3-68e6-44b5-bac2-2a979e1d217c"
      },
      "execution_count": null,
      "outputs": [
        {
          "output_type": "stream",
          "name": "stdout",
          "text": [
            "['A', 'B'] C\n",
            "['A'] B\n",
            "[] A\n",
            "Pilha está vazia\n"
          ]
        }
      ]
    },
    {
      "cell_type": "code",
      "source": [
        "from typing import List,Any\n",
        "\n",
        "class Stack:\n",
        "  def __init__(self):\n",
        "    self.__data: List[Any] = []\n",
        "    self.__index = 0\n",
        "\n",
        "  def append(self, item: Any) -> None:\n",
        "    self.__data.append(item)\n",
        "\n",
        "  def pop(self) -> Any:\n",
        "    return self.__data.pop()\n",
        "\n",
        "  def peek(self) -> Any:\n",
        "    if not self.__data:\n",
        "      return []\n",
        "\n",
        "      return self.__data[-1]\n",
        "\n",
        "  def __repr__(self)-> str:\n",
        "    return f'{self.__class__.__name__}({self.__data})'\n",
        "\n",
        "  #def __iter__(self) -> Any:\n",
        "\n",
        "\n",
        "if __name__ == \"__main__\":\n",
        "  stack = Stack()\n",
        "\n",
        "  stack.append('A')\n",
        "  stack.append('B')\n",
        "  stack.append('C')\n",
        "\n",
        "  top_item = stack.pop()\n",
        "  top_item = stack.pop()\n",
        "  top_item = stack.pop()\n",
        "\n",
        "  print(stack, top_item)\n",
        "\n",
        "\n",
        "\n",
        "\n",
        "\n",
        "\n"
      ],
      "metadata": {
        "colab": {
          "base_uri": "https://localhost:8080/"
        },
        "id": "UDoueXNgIHrM",
        "outputId": "fd4fb62a-da48-4112-85c3-74b73858dd81"
      },
      "execution_count": null,
      "outputs": [
        {
          "output_type": "stream",
          "name": "stdout",
          "text": [
            "Stack([]) A\n"
          ]
        }
      ]
    },
    {
      "cell_type": "markdown",
      "source": [
        "**Listas**"
      ],
      "metadata": {
        "id": "M9b4kq-KIoFp"
      }
    },
    {
      "cell_type": "markdown",
      "source": [
        "**Operações**"
      ],
      "metadata": {
        "id": "ndwf9VZ4Ums9"
      }
    },
    {
      "cell_type": "code",
      "source": [
        "lista = [11,2,5,4,7,8,9]\n",
        "print(lista)\n",
        "\n",
        "lista.append(12) # adiciona um elemento no final da lista\n",
        "print(lista)\n",
        "\n",
        "lista.insert(3,18) # na posição 3 insere o elemento 18\n",
        "print(lista)\n",
        "\n",
        "lista.sort() # ordena a lista de forma crescente\n",
        "print(lista)\n",
        "\n",
        "lista.remove(2) # remove o  primeiro elemento de valor correspondente\n",
        "print(lista)\n",
        "\n",
        "lista.pop(7) # remove o elemento no índice indicado\n",
        "print(lista)"
      ],
      "metadata": {
        "id": "VT_0NANQIHGQ",
        "colab": {
          "base_uri": "https://localhost:8080/"
        },
        "outputId": "6d814e3a-9b55-4d6f-9e6c-9c599f6b26c4"
      },
      "execution_count": null,
      "outputs": [
        {
          "output_type": "stream",
          "name": "stdout",
          "text": [
            "[11, 2, 5, 4, 7, 8, 9]\n",
            "[11, 2, 5, 4, 7, 8, 9, 12]\n",
            "[11, 2, 5, 18, 4, 7, 8, 9, 12]\n",
            "[2, 4, 5, 7, 8, 9, 11, 12, 18]\n",
            "[4, 5, 7, 8, 9, 11, 12, 18]\n",
            "[4, 5, 7, 8, 9, 11, 12]\n"
          ]
        }
      ]
    },
    {
      "cell_type": "markdown",
      "source": [
        "**Compreensão de lista**"
      ],
      "metadata": {
        "id": "iw083U_oWGC2"
      }
    },
    {
      "cell_type": "code",
      "source": [
        "numeros = [1,2,3,4,5]\n",
        "\n",
        "quadrados = [num * num for num in numeros]\n",
        "print(quadrados)\n",
        "\n",
        "pares = [num for num in numeros if num % 2 == 0]\n",
        "print(pares)"
      ],
      "metadata": {
        "colab": {
          "base_uri": "https://localhost:8080/"
        },
        "id": "LfOT4SFWIqop",
        "outputId": "ebff07ea-094f-4753-d5df-319d9ee97668"
      },
      "execution_count": null,
      "outputs": [
        {
          "output_type": "stream",
          "name": "stdout",
          "text": [
            "[1, 4, 9, 16, 25]\n",
            "[2, 4]\n"
          ]
        }
      ]
    },
    {
      "cell_type": "markdown",
      "source": [
        "**Listas encadeadas**"
      ],
      "metadata": {
        "id": "ZX21FvasW8UN"
      }
    },
    {
      "cell_type": "code",
      "source": [
        "# Lista encadeada de registros de alunos. Cada registro  deve conter a matrícula, nome e notas dos alunos\n",
        "\n",
        "# definindo um tipo Node\n",
        "class Node:\n",
        "\n",
        "  def __init__(self,matricula, nome, nota):\n",
        "    self.matricula = matricula\n",
        "    self.nome = nome\n",
        "    self.nota = nota\n",
        "    self.next = None\n",
        "\n",
        "# definindo a linkedList\n",
        "class LinkedList:\n",
        "  def __init__(self):\n",
        "    self.head = None\n",
        "\n",
        "  def append(self, matricula, nome, nota):\n",
        "    new_node = Node(matricula,nome,nota)\n",
        "    if self.head is None:\n",
        "      self.head = new_node\n",
        "    else:\n",
        "      current = self.head\n",
        "      while current.next is not None:\n",
        "        current = current.next\n",
        "      current.next = new_node\n",
        "\n",
        "  def display(self):\n",
        "    current = self.head\n",
        "    while current is not None:\n",
        "      print(\"Matricula:\", current.matricula)\n",
        "      print(\"Nome:\", current.nome)\n",
        "      print(\"Nota:\", current.nota)\n",
        "      print()\n",
        "\n",
        "      current = current.next\n",
        "\n"
      ],
      "metadata": {
        "id": "okthw2rFXE7D"
      },
      "execution_count": null,
      "outputs": []
    },
    {
      "cell_type": "code",
      "source": [
        "lista = LinkedList()\n",
        "lista.append(1, \"Maria\", 9.0)\n",
        "lista.append(2, \"João\", 8.5)\n",
        "lista.append(3, \"Ana\", 7.8)\n",
        "\n",
        "lista.display()"
      ],
      "metadata": {
        "colab": {
          "base_uri": "https://localhost:8080/"
        },
        "id": "APdcZ8WKw2FL",
        "outputId": "81a20709-3c40-45d6-ef32-612a3243f182"
      },
      "execution_count": null,
      "outputs": [
        {
          "output_type": "stream",
          "name": "stdout",
          "text": [
            "Matricula: 1\n",
            "Nome: Maria\n",
            "Nota: 9.0\n",
            "\n",
            "Matricula: 2\n",
            "Nome: João\n",
            "Nota: 8.5\n",
            "\n",
            "Matricula: 3\n",
            "Nome: Ana\n",
            "Nota: 7.8\n",
            "\n"
          ]
        }
      ]
    },
    {
      "cell_type": "markdown",
      "source": [
        " **Listas ligadas circulares**"
      ],
      "metadata": {
        "id": "jjkG7yG90INA"
      }
    },
    {
      "cell_type": "code",
      "source": [
        "class CircularLinkedList:\n",
        "\n",
        "\n",
        "  def __init__(self):\n",
        "    self.head = None\n",
        "\n",
        "  def append(self, matricula, nome, nota):\n",
        "    new_node = Node(matricula, nome, nota)\n",
        "    if self.head is None:\n",
        "        self.head = new_node\n",
        "        new_node.next = self.head  # Apontar para si mesmo\n",
        "    else:\n",
        "      current = self.head\n",
        "      # Percorre a lista até encontrar o último nó\n",
        "      while current.next != self.head:\n",
        "        current = current.next\n",
        "      current.next = new_node\n",
        "      new_node.next = self.head  # Conectar o último nó ao head\n",
        "\n",
        "  def display(self):\n",
        "        if self.head is None:\n",
        "            print(\"A lista está vazia.\")\n",
        "            return\n",
        "\n",
        "        current = self.head\n",
        "        while True:\n",
        "            print(\"Matrícula:\", current.matricula)\n",
        "            print(\"Nome:\", current.nome)\n",
        "            print(\"Nota:\", current.nota)\n",
        "            print()\n",
        "            current = current.next\n",
        "            # Se retornarmos ao head, paramos a exibição\n",
        "            if current == self.head:\n",
        "                break\n",
        "\n",
        "\n",
        "lista_c = CircularLinkedList()\n",
        "# lista_c.append(1, \"Maria\", 9.0)\n",
        "# lista_c.append(2, \"João\", 8.5)\n",
        "\n",
        "lista_c.display()"
      ],
      "metadata": {
        "colab": {
          "base_uri": "https://localhost:8080/"
        },
        "id": "gZv0teQr0KJL",
        "outputId": "cf7dee79-dd27-42e2-f4a7-58331413a230"
      },
      "execution_count": null,
      "outputs": [
        {
          "output_type": "stream",
          "name": "stdout",
          "text": [
            "A lista está vazia.\n"
          ]
        }
      ]
    },
    {
      "cell_type": "markdown",
      "source": [
        "**Listas duplamente** **ligadas**"
      ],
      "metadata": {
        "id": "KwO3ERbm9tEi"
      }
    },
    {
      "cell_type": "code",
      "source": [
        "class Nodee:\n",
        "    def __init__(self, matricula, nome, nota):\n",
        "        self.matricula = matricula\n",
        "        self.nome = nome\n",
        "        self.nota = nota\n",
        "        self.next = None\n",
        "        self.prev = None"
      ],
      "metadata": {
        "id": "8DyliNPw9xSM"
      },
      "execution_count": null,
      "outputs": []
    },
    {
      "cell_type": "code",
      "source": [
        "class DoublyLinkedList:\n",
        "\n",
        "  def __init__(self):\n",
        "    self.head = None\n",
        "    self.tail = None\n",
        "\n",
        "  def append(self, matricula, nome, nota):\n",
        "    new_node = Nodee(matricula, nome, nota)\n",
        "\n",
        "    if self.head is None:\n",
        "      self.head = new_node\n",
        "      self.tail = new_node\n",
        "    else:\n",
        "      new_node.prev = self.tail\n",
        "      self.tail.next = new_node\n",
        "      self.tail = new_node\n",
        "\n",
        "  def display(self):\n",
        "        if self.head is None:\n",
        "            print(\"A lista está vazia.\")\n",
        "            return\n",
        "\n",
        "        current = self.head\n",
        "        while current is not None:\n",
        "            print(\"Matrícula:\", current.matricula)\n",
        "            print(\"Nome:\", current.nome)\n",
        "            print(\"Nota:\", current.nota)\n",
        "            print()\n",
        "            current = current.next\n",
        "\n",
        "# Criando uma lista duplamente encadeada\n",
        "lista_dupla = DoublyLinkedList()\n",
        "lista_dupla.append(1, \"Maria\", 9.0)\n",
        "lista_dupla.append(2, \"João\", 8.5)\n",
        "lista_dupla.append(3, \"Ana\", 7.8)\n",
        "\n",
        "lista_dupla.display()\n",
        "\n",
        "\n"
      ],
      "metadata": {
        "colab": {
          "base_uri": "https://localhost:8080/"
        },
        "id": "zVES3m2M5qq7",
        "outputId": "5edd87f2-0a66-43be-dd79-b706f5dbceec"
      },
      "execution_count": null,
      "outputs": [
        {
          "output_type": "stream",
          "name": "stdout",
          "text": [
            "Matrícula: 1\n",
            "Nome: Maria\n",
            "Nota: 9.0\n",
            "\n",
            "Matrícula: 2\n",
            "Nome: João\n",
            "Nota: 8.5\n",
            "\n",
            "Matrícula: 3\n",
            "Nome: Ana\n",
            "Nota: 7.8\n",
            "\n"
          ]
        }
      ]
    },
    {
      "cell_type": "markdown",
      "source": [
        "**Listas circulares duplamente ligadas**"
      ],
      "metadata": {
        "id": "r-by2hicIOOe"
      }
    },
    {
      "cell_type": "code",
      "source": [
        "class Node:\n",
        "    def __init__(self, matricula, nome, nota):\n",
        "        self.matricula = matricula\n",
        "        self.nome = nome\n",
        "        self.nota = nota\n",
        "        self.next = None\n",
        "        self.prev = None\n",
        "\n",
        "class CircularDoublyLinkedList:\n",
        "    def __init__(self):\n",
        "        self.head = None\n",
        "        self.tail = None\n",
        "\n",
        "    def append(self, matricula, nome, nota):\n",
        "        new_node = Node(matricula, nome, nota)\n",
        "\n",
        "        if self.head is None:\n",
        "            # Se a lista estiver vazia, o novo nó é head e tail\n",
        "            self.head = new_node\n",
        "            self.tail = new_node\n",
        "            # Em uma lista circular, ele aponta para si mesmo em ambos os lados\n",
        "            new_node.next = new_node\n",
        "            new_node.prev = new_node\n",
        "        else:\n",
        "            # Atualizar os ponteiros\n",
        "            new_node.prev = self.tail\n",
        "            new_node.next = self.head\n",
        "            self.tail.next = new_node\n",
        "            self.head.prev = new_node\n",
        "            self.tail = new_node  # O novo nó se torna o tail\n",
        "\n",
        "    def display(self):\n",
        "        if self.head is None:\n",
        "            print(\"A lista está vazia.\")\n",
        "            return\n",
        "\n",
        "        current = self.head\n",
        "        while True:\n",
        "            print(\"Matrícula:\", current.matricula)\n",
        "            print(\"Nome:\", current.nome)\n",
        "            print(\"Nota:\", current.nota)\n",
        "            print()\n",
        "            current = current.next\n",
        "            # Se retornarmos ao head, paramos a exibição\n",
        "            if current == self.head:\n",
        "                break\n",
        "#exemplo\n",
        "\n",
        "# Criando uma lista circular duplamente encadeada\n",
        "lista_circular_dupla = CircularDoublyLinkedList()\n",
        "lista_circular_dupla.append(1, \"Maria\", 9.0)\n",
        "lista_circular_dupla.append(2, \"João\", 8.5)\n",
        "lista_circular_dupla.append(3, \"Ana\", 7.8)\n",
        "\n",
        "lista_circular_dupla.display()\n"
      ],
      "metadata": {
        "colab": {
          "base_uri": "https://localhost:8080/"
        },
        "id": "aGd3aDpBIWf6",
        "outputId": "a1527507-dec8-455b-f61e-99fe5848fca1"
      },
      "execution_count": null,
      "outputs": [
        {
          "output_type": "stream",
          "name": "stdout",
          "text": [
            "Matrícula: 1\n",
            "Nome: Maria\n",
            "Nota: 9.0\n",
            "\n",
            "Matrícula: 2\n",
            "Nome: João\n",
            "Nota: 8.5\n",
            "\n",
            "Matrícula: 3\n",
            "Nome: Ana\n",
            "Nota: 7.8\n",
            "\n"
          ]
        }
      ]
    },
    {
      "cell_type": "markdown",
      "source": [
        "**Pilha usando Listas**"
      ],
      "metadata": {
        "id": "sutkPtzjLmbf"
      }
    },
    {
      "cell_type": "code",
      "source": [
        "class Pilha:\n",
        "  def __init__(self):\n",
        "    self.itens = []\n",
        "\n",
        "    def push(self,item):\n",
        "      self.itens.append(item)\n",
        "\n",
        "    def pop(self):\n",
        "      if not self.is_emppty():\n",
        "        return self.itens.pop()\n",
        "\n",
        "    def peek(self):\n",
        "      if not self.is_empty():\n",
        "        return self.itens[-1]\n",
        "\n",
        "    def is_empty(self):\n",
        "      return len(self.itens) == 0\n",
        "\n",
        "    def size(self):\n",
        "      return len(self.itens)\n",
        "\n",
        "\n",
        "# exercício_ validação da expressão com parênteses balanceados\n",
        "# ((3+4)* 2)\n",
        "\n",
        "def validar_parenteses(expressao):\n",
        "  pilha = Pilha()\n",
        "\n",
        "  for char in expressao:\n",
        "    if char =='(':\n",
        "      pilha.push(char)\n",
        "    elif char == ')':\n",
        "      if pilha.is_empty() or pilha.pop() != '(':\n",
        "        return False\n",
        "  return pilha.is_empty()"
      ],
      "metadata": {
        "id": "R2tmLy7DLo6D"
      },
      "execution_count": null,
      "outputs": []
    },
    {
      "cell_type": "markdown",
      "source": [
        "**Recursão**"
      ],
      "metadata": {
        "id": "GwyS_jMoIUPA"
      }
    },
    {
      "cell_type": "code",
      "source": [
        "#sequencial de fibonacci\n",
        "\n",
        "#class Fibonacci:\n",
        "\n",
        "def fib(n):\n",
        "  if n <= 0:\n",
        "    return \"n deve ser maior que zero\"\n",
        "  elif n==1:\n",
        "    return 0\n",
        "  elif n==2:\n",
        "    return 1\n",
        "  else:\n",
        "    return fib(n-1) + fib(n-2)\n",
        "\n",
        "\n",
        "fib(10)\n",
        "# 0 1 1 2 3 5 8 13 21 34\n"
      ],
      "metadata": {
        "colab": {
          "base_uri": "https://localhost:8080/"
        },
        "id": "0dFmUlgaIWSj",
        "outputId": "23f0fd99-b620-42b6-ef15-cb0839fdeadb"
      },
      "execution_count": 18,
      "outputs": [
        {
          "output_type": "execute_result",
          "data": {
            "text/plain": [
              "34"
            ]
          },
          "metadata": {},
          "execution_count": 18
        }
      ]
    },
    {
      "cell_type": "markdown",
      "source": [
        "***Fila***"
      ],
      "metadata": {
        "id": "fLk8KGS1UScC"
      }
    },
    {
      "cell_type": "markdown",
      "source": [
        "\n",
        "Em ciência da computação, fila (queue) e deque (double-ended queue) são estruturas de dados lineares que seguem diferentes regras de inserção e remoção de elementos. Aqui está uma explicação de cada uma:\n",
        "\n",
        "**Fila (Queue)**\n",
        "Conceito: A fila é uma estrutura de dados onde os elementos seguem o princípio FIFO (First In, First Out), ou seja, o primeiro elemento que entra é o primeiro a sair.\n",
        "Exemplo de uso: Fila de processos em sistemas operacionais ou filas de atendimento.\n",
        "\n",
        "Operações principais:\n",
        "*enqueue:* adiciona um elemento no final da fila.\n",
        "*dequeue:* remove o primeiro elemento da fila.\n",
        "*peek:* visualiza o primeiro elemento sem removê-lo.\n",
        "\n",
        "**Deque (Double-ended Queue)**\n",
        "Conceito: O deque é uma estrutura de dados que permite a inserção e remoção de elementos tanto no início quanto no final. Ele pode ser visto como uma fila com mais flexibilidade.\n",
        "Exemplo de uso: Implementações de cache ou algoritmos de ordenação.\n",
        "\n",
        "Operações principais:\n",
        "*addFirst:* adiciona um elemento no início.\n",
        "*addLast:* adiciona um elemento no final.\n",
        "*removeFirst:* remove o primeiro elemento.\n",
        "*removeLast:* remove o último elemento.\n",
        "Diferença principal: Enquanto a fila comum só permite inserção no final e remoção no início, o deque permite essas operações em ambas as extremidades.\n",
        "\n",
        "Essas estruturas são amplamente utilizadas para problemas que exigem ordenação ou processamento de elementos em sequência, como simulações, controle de fluxo, ou algoritmos de busca."
      ],
      "metadata": {
        "id": "quRoy-ticxSX"
      }
    },
    {
      "cell_type": "code",
      "source": [
        "class Node:\n",
        "  def __init__(self,data):\n",
        "    self.data = data\n",
        "    self.next = None\n",
        "\n",
        "class Queue:\n",
        "\n",
        "  def __init__(self):\n",
        "    self.first = None\n",
        "    self.last = None\n",
        "    self._size = 0\n",
        "\n",
        "  def push(self, elem):\n",
        "    new_node = Node(elem)\n",
        "    if self.last is None: # se a lista estiver vazia\n",
        "      self.last = new_node\n",
        "\n",
        "    else: # se a lista não estiver vazia\n",
        "      self.last.next = new_node\n",
        "      self.last = new_node  # último elemento vai ser o new_node\n",
        "\n",
        "    if self.first is None:\n",
        "      self.first = new_node\n",
        "\n",
        "    self._size = self._size + 1\n",
        "\n",
        "  def pop(self):\n",
        "    if self.first is not None: # verificando se não está vazio\n",
        "      # retirar o primeiro elemento\n",
        "      elem = self.first.data\n",
        "      self.first = self.first.next #avança o first para o próximo elemento\n",
        "      self._size = self._size - 1\n",
        "      return elem\n",
        "    raise IndexError(\"A queue está vazia\")\n",
        "\n",
        "  def peek(self):\n",
        "     if self.first is not None: # verificando se não está vazio\n",
        "      elem = self.first.data\n",
        "      return elem\n",
        "     raise IndexError(\"A queue está vazia\")\n",
        "\n",
        "\n",
        "  def __len__(self):\n",
        "    \"\"\"Retorna o tamanho da lista\"\"\"\n",
        "    return self._size\n",
        "\n",
        "  def __repr__(self):\n",
        "    if self._size >0:\n",
        "      r =\"\"\n",
        "      pointer = self.first\n",
        "      while(pointer):\n",
        "        r = r+ str(pointer.data) + \" \"\n",
        "        pointer = pointer.next\n",
        "      return r\n",
        "    return \" Queue vazia\"\n",
        "\n",
        "  def __str__(self):\n",
        "    return self.__repr__()\n",
        "\n",
        "fila = Queue()\n",
        "fila.push(3)\n",
        "fila.push(8)\n",
        "print(fila.peek())\n",
        "fila.push(\"Dani\")\n",
        "fila.push(True)\n",
        "print(fila)\n",
        "print(fila.pop())\n",
        "print(fila)\n",
        "print(f\"tamanho da lista:{fila.__len__()}\")\n",
        "\n",
        "\n",
        "\n",
        "\n",
        "\n",
        "\n",
        ""
      ],
      "metadata": {
        "colab": {
          "base_uri": "https://localhost:8080/"
        },
        "id": "mFsFWkT-B92t",
        "outputId": "b8eba5a9-7d3f-4cc3-9ebf-1560e414c4eb"
      },
      "execution_count": 13,
      "outputs": [
        {
          "output_type": "stream",
          "name": "stdout",
          "text": [
            "3\n",
            "3 8 Dani True \n",
            "3\n",
            "8 Dani True \n",
            "tamanho da lista:3\n"
          ]
        }
      ]
    },
    {
      "cell_type": "markdown",
      "source": [
        "**Filas usando listas**"
      ],
      "metadata": {
        "id": "j4hJAeDsjRWO"
      }
    },
    {
      "cell_type": "code",
      "source": [],
      "metadata": {
        "id": "4c8wTyHMjVRl"
      },
      "execution_count": null,
      "outputs": []
    },
    {
      "cell_type": "markdown",
      "source": [
        "**questão 4**\n",
        "Imagine que você está desenvolvendo um sistema de controle de tarefas em uma plataforma de gerenciamento de projetos colaborativos. Cada tarefa é representada por uma estrutura de dados simples contendo informações como descrição, responsável e data de criação. Os usuários podem realizar duas operações principais: adicionar novas tarefas ao projeto e visualizar a tarefa mais recentemente adicionada. Com base nessas operações, determine se é mais adequado implementar uma fila ou uma pilha para gerenciar a ordem de chegada das tarefas. Justifique sua escolha explicando por que você optaria por uma fila ou uma pilha. Considere as características intrínsecas de cada estrutura de dados em relação às operações necessárias. Escreva o código na linguagem de sua escolha que permita adicionar uma nova tarefa e visualizar a tarefa mais recentemente adicionada."
      ],
      "metadata": {
        "id": "E0zWd0G3ezyG"
      }
    },
    {
      "cell_type": "code",
      "source": [
        "# Pilha é a mais adequada para situação, pois  a pilha segue o prícipio LIFO (last in first out),\n",
        "# ou seja  será possível adicionar uma tarefa ao topo da pilha  e consultar essa tarefa (que será a mais recente) pois\n",
        "# as pilhas são na ordem indireta,  a última tarefa inserida é a primeira a ser acessada.\n",
        "\n",
        "# Já as filas seguem o princípio FIFO (first in fist out), o primeiro elemento a ser adicionado será o primeiro a ser retirado, logo não cumpre a exigencia\n",
        "# proposta pela questão. A fila útil quando as tarefas precisam ser tratadas na ordem em que foram adicionadas, respeitando a ordem de chegada.\n",
        "\n",
        "\n",
        "# usando lista padrão do python\n",
        "\n",
        "class Tarefa:\n",
        "  def __init__(self, descricao, responsavel,data):\n",
        "    self.descricao = descricao\n",
        "    self.responsavel = responsavel\n",
        "    self.data = data\n",
        "\n",
        "  def __str__(self):\n",
        "      return f\"Tarefa: {self.descricao}, Responsável: {self.responsavel}, Criada em: {self.data}\"\n",
        "\n",
        "\n",
        "\n",
        "\n",
        "class Pilha_tarefas:\n",
        "  def __init__(self):\n",
        "    self.tarefas = []\n",
        "\n",
        "  def push(self, descricao, responsavel, data):\n",
        "    tarefa = Tarefa(descricao, responsavel, data)\n",
        "    self.tarefas.append(tarefa)\n",
        "\n",
        "  def peek(self):\n",
        "    if not self.is_empty():\n",
        "      return self.tarefas[-1] # retorna a tarefa do topo da pilha\n",
        "    else:\n",
        "      return \"Nenhuma tarefa disponível.\"\n",
        "\n",
        "  def pop(self):\n",
        "    if not self.is_empty():\n",
        "      return self.tarefas.pop()\n",
        "\n",
        "  def is_empty(self):\n",
        "        return len(self.tarefas) == 0\n",
        "\n",
        "  def imprimir_pilha_completa(self):\n",
        "        if self.is_empty():\n",
        "            print(\"A pilha está vazia.\")\n",
        "        else:\n",
        "            print(\"\\nTarefas na pilha:\")\n",
        "            for tarefa in reversed(self.tarefas):  # Itera de forma reversa, pois a última tarefa está no topo\n",
        "                print(tarefa)\n",
        "\n",
        " # def __str__(self):\n",
        "   #     return f\"Tarefas na pilha: {', '.join(self.tarefas) if not self.is_empty() else 'Nenhuma tarefa'}\"\n",
        "\n",
        "\n",
        "#teste\n",
        "\n",
        "tarefas = Pilha_tarefas()\n",
        "\n",
        "tarefas.push(\"limpar a empresa\", \"joão\",\"12/03\")\n",
        "print(tarefas)\n",
        "print(f\"Topo da pilha: {tarefas.peek()}\")\n",
        "print()\n",
        "\n",
        "\n",
        "\n",
        "tarefas.push(\"Entrega 2345 até 17h\", \"Carmem\", \"11/03\")\n",
        "topo = tarefas.peek()\n",
        "print(topo)\n",
        "print()\n",
        "tarefas.push(\"reuniao com josé\",\"josé\",\"11/03\")\n",
        "#print(tarefas)\n",
        "print()\n",
        "print(f\"Topo da pilha: {tarefas.peek()}\")\n",
        "print()\n",
        "tarefas.imprimir_pilha_completa()"
      ],
      "metadata": {
        "id": "z1Up8vJ0V2h9",
        "colab": {
          "base_uri": "https://localhost:8080/"
        },
        "outputId": "92e6c880-2b81-4d75-8ca6-12e22134e058"
      },
      "execution_count": null,
      "outputs": [
        {
          "output_type": "stream",
          "name": "stdout",
          "text": [
            "<__main__.Pilha_tarefas object at 0x7dcf242cb370>\n",
            "Topo da pilha: Tarefa: limpar a empresa, Responsável: joão, Criada em: 12/03\n",
            "\n",
            "Tarefa: Entrega 2345 até 17h, Responsável: Carmem, Criada em: 11/03\n",
            "\n",
            "\n",
            "Topo da pilha: Tarefa: reuniao com josé, Responsável: josé, Criada em: 11/03\n",
            "\n",
            "\n",
            "Tarefas na pilha:\n",
            "Tarefa: reuniao com josé, Responsável: josé, Criada em: 11/03\n",
            "Tarefa: Entrega 2345 até 17h, Responsável: Carmem, Criada em: 11/03\n",
            "Tarefa: limpar a empresa, Responsável: joão, Criada em: 12/03\n"
          ]
        }
      ]
    },
    {
      "cell_type": "markdown",
      "source": [
        "**questão 3** 3. Observe o código abaixo que insere elementos em uma Lista Circular Duplamente Encadeada.\n",
        "\n",
        "a. O código está correto? Caso não, indique o problema e corrija;\n",
        "\n",
        "b. Acrescente um método para remover o primeiro nó a partir do valor (data) informado.\n",
        "\n",
        "class Circular DoublyLinkedList:\n",
        "\n",
        "def __init__(self):\n",
        "\n",
        "self.head None\n",
        "\n",
        "def insert (self, data):\n",
        "new node Node(data)\n",
        "if self.head is None:\n",
        "  self.head = new_node\n",
        "else:\n",
        "  current = self.head\n",
        "  while current.next is not self.head:\n",
        "    current =current.next\n",
        "    new_node.next= self.head\n",
        "    current.next= new_node"
      ],
      "metadata": {
        "id": "XEq29qYRwgdO"
      }
    },
    {
      "cell_type": "code",
      "source": [
        "# a\n",
        "# O código não está correto\n",
        "# corrigindo\n",
        "\n",
        "class Node:\n",
        "  def __init__(self, data):\n",
        "    self.data = data\n",
        "    self.prev = None\n",
        "    self.next = None\n",
        "\n",
        "class CircularDoublyLinkedList:\n",
        "  def __init__(self):\n",
        "    self.head = None\n",
        "    self.tail = None\n",
        "\n",
        "  def insert(self, data):\n",
        "    new_node = Node(data)\n",
        "\n",
        "    if self.head is None:\n",
        "      self.head = new_node\n",
        "      self.tail = new_node\n",
        "      new_node.next = new_node\n",
        "      new_node.prev = new_node\n",
        "\n",
        "    # else:  ### dessa forma vai sempre acrescentar no final da lista\n",
        "    #   new_node.prev = self.tail\n",
        "    #   new_node.next = self.head\n",
        "    #   self.tail.next = new_node  # se eu usasse self.head.next daria certo? não pq nem sempre o anterior vai ser o head\n",
        "    #   self.tail.prev = new_node\n",
        "    #   self.tail = new_node\n",
        "\n",
        "    else:\n",
        "      current = self.head\n",
        "      # Navegando até o último nó (onde current.next é o head)\n",
        "      while current.next is not self.head: ### percorre toda a lista\n",
        "          current = current.next\n",
        "\n",
        "      # Atualizando os ponteiros para inserir o novo nó\n",
        "      new_node.next = self.head  # O novo nó aponta para o head\n",
        "      new_node.prev = current     # O novo nó aponta para o nó anterior (current)\n",
        "      current.next = new_node     # O nó anterior aponta para o novo nó\n",
        "      self.head.prev = new_node   # O head aponta para o novo nó como anterior\n",
        "\n",
        "  class CircularDoublyLinkedList:\n",
        "\n",
        "    def __init__(self):\n",
        "        self.head = None\n",
        "\n",
        "    def insert(self, data):\n",
        "        new_node = Node(data)\n",
        "        if self.head is None:\n",
        "            self.head = new_node\n",
        "            new_node.next = self.head\n",
        "            new_node.prev = self.head\n",
        "        else:\n",
        "            current = self.head\n",
        "            while current.next != self.head:\n",
        "                current = current.next\n",
        "            current.next = new_node\n",
        "            new_node.prev = current\n",
        "            new_node.next = self.head\n",
        "            self.head.prev = new_node\n",
        "\n",
        "    def remove_valor(self, data): ###pode remover de qualquer lugar da lista\n",
        "        if self.head is None:\n",
        "            return  # Lista vazia, nada a remover\n",
        "\n",
        "        current = self.head\n",
        "        while True:\n",
        "            if current.data == data:  # Se encontrar o nó\n",
        "                if current.next == self.head:  # Se for o único nó na lista\n",
        "                    self.head = None  # Remove o nó\n",
        "                else:\n",
        "                    current.prev.next = current.next\n",
        "                    current.next.prev = current.prev\n",
        "                    if current == self.head:  # Se for o nó da cabeça\n",
        "                        self.head = current.next  # Atualiza a cabeça\n",
        "                return\n",
        "            current = current.next\n",
        "            if current == self.head:\n",
        "                break  # Volta ao início da lista\n",
        "\n",
        "\n",
        "\n",
        "\n",
        "\n",
        "\n"
      ],
      "metadata": {
        "id": "msGaXjfbKz15"
      },
      "execution_count": 2,
      "outputs": []
    },
    {
      "cell_type": "markdown",
      "source": [
        "**Questão 2** Você está explorando a complexa Sequência de Jacobsthal, uma sequência numérica que apresenta similaridades com a Sequência de Pell. Nessa sequência, cada termo é obtido multiplicando o termo anterior por dois e subtraindo o termo antes dele. Os dois primeiros termos da Sequência de lacobsthal são O e 1.\n",
        "\n",
        "Definição da Sequência de Jacobsthal\n",
        "\n",
        "Jacobsthal(0) = 0\n",
        "\n",
        "Jacobsthal(1)= 1\n",
        "\n",
        "Jacobsthal(n) = 2 * Jacobsthal(n-1) - Jacobisthal(n-2) para n > 1\n",
        "\n",
        "Crie um código, na linguagem de sua escolha e usando recursão, que calcule o n-enésimo número da série de Jacobsthal."
      ],
      "metadata": {
        "id": "NwNtGStkHxNo"
      }
    },
    {
      "cell_type": "code",
      "source": [
        "\n",
        "# se a sequencia for assim: 2* jac(n-1) - jac(n-2)\n",
        "# def jac(n):\n",
        "#   if n<= 0:\n",
        "#     return \"n precisa ser maior que 0\"\n",
        "#   elif n == 1:\n",
        "#     return 0\n",
        "#   elif n == 2:\n",
        "#     return 1\n",
        "#   else:\n",
        "#     return 2* jac(n-1) - jac(n-2)\n",
        "\n",
        "# jac(3)\n",
        "\n",
        "#ou\n",
        "#  se a sequencia for jac(n-1)+ 2jac(n-2)\n",
        "def jacobsthal(n):\n",
        "    if n == 0:\n",
        "        return 0\n",
        "    elif n == 1:\n",
        "        return 1\n",
        "    else:\n",
        "        return jacobsthal(n - 1) + 2 * jacobsthal(n - 2)\n",
        "\n",
        "# Exemplo de uso:\n",
        "for i in range(10):\n",
        "    print(f\"J({i}) = {jacobsthal(i)}\")\n"
      ],
      "metadata": {
        "id": "-jtdNQ8nxbxH",
        "colab": {
          "base_uri": "https://localhost:8080/"
        },
        "outputId": "a507a3fe-0bc9-4687-d646-a277e166d986"
      },
      "execution_count": 20,
      "outputs": [
        {
          "output_type": "stream",
          "name": "stdout",
          "text": [
            "J(0) = 0\n",
            "J(1) = 1\n",
            "J(2) = 1\n",
            "J(3) = 3\n",
            "J(4) = 5\n",
            "J(5) = 11\n",
            "J(6) = 21\n",
            "J(7) = 43\n",
            "J(8) = 85\n",
            "J(9) = 171\n"
          ]
        }
      ]
    },
    {
      "cell_type": "code",
      "source": [
        "def jac(n):\n",
        "  if n<= 0:\n",
        "    return \"n precisa ser maior que 0\"\n",
        "  elif n == 1:\n",
        "    return 0\n",
        "  elif n == 2:\n",
        "    return 1\n",
        "  else:\n",
        "    return jac(n - 1) + 2 * jac(n - 2)\n",
        "\n",
        "jac(3)"
      ],
      "metadata": {
        "colab": {
          "base_uri": "https://localhost:8080/"
        },
        "id": "mGEqFn4OdP-N",
        "outputId": "f3a9d253-bd35-4e56-a334-3acc1f09e65b"
      },
      "execution_count": 21,
      "outputs": [
        {
          "output_type": "execute_result",
          "data": {
            "text/plain": [
              "1"
            ]
          },
          "metadata": {},
          "execution_count": 21
        }
      ]
    },
    {
      "cell_type": "markdown",
      "source": [
        "**Questão 1**  Você faz parte de uma equipe de desenvolvimento de software que está trabalhando no desenvolvimento de um sistema de gestão de inventário para uma empresa de logistica. A aplicação inovadora que estão criando utiliza *Tipos Abstratos de Dados* (TADS) para simplificar o controle e a organização do estoque da empresa. O cliente solicitou a implementação de funcionalidades especificas para lidar com os itens do inventário, que incluem\n",
        "\n",
        "*Categorias e Subcategorias de Itens:* Cada item no inventário pode ser categorizado e ter subcategorias associadas. Por exemplo, um item principal pode ser \"Equipamentos Eletrônicos e ter subcategorias como \"Smartphones\" e \"Laptops\".\n",
        "\n",
        "*Priorização de itens.* Cada item e subitem deve ter uma prioridade atribuida. Os usuários devem ser capazes de visualizar e reorganizar os itens com base nessas prioridades.\n",
        "\n",
        "*Atribuição de Custodia:* E necessário atribuir a custodia de itens a funcionários especificos. Cada funcionário pode ser responsável por vários itens, e um item pode ter vários funcionários associados\n",
        "\n",
        "Com base nesses requisitos, desenvolva um (pseudo) código para a estrutura de dados que representará as tarefas e sub-tarefas, levando em consideração a utilização de TADs. *Explique como você implementaria as operações básicas, como adição de tarefas, priorização e atribuição de responsabilidades, utilizando conceitos de Tipos Abstratos de Dados*."
      ],
      "metadata": {
        "id": "IO5BGVlYIQzj"
      }
    },
    {
      "cell_type": "code",
      "source": [
        "class Item:\n",
        "    def __init__(self, nome, categoria, subcategoria, prioridade):\n",
        "        self.nome = nome\n",
        "        self.categoria = categoria\n",
        "        self.subcategoria = subcategoria\n",
        "        self.prioridade = prioridade\n",
        "        self.custodia = []\n",
        "\n",
        "    def adicionar_custodia(self, funcionario):\n",
        "        \"\"\"Atribui um funcionário à custódia do item\"\"\"\n",
        "        self.custodia.append(funcionario)\n",
        "\n",
        "    def alterar_prioridade(self, nova_prioridade):\n",
        "        \"\"\"Altera a prioridade do item\"\"\"\n",
        "        self.prioridade = nova_prioridade\n",
        "\n",
        "\n",
        "class Inventario:\n",
        "    def __init__(self):\n",
        "        self.itens = []\n",
        "\n",
        "    def adicionar_item(self, nome, categoria, subcategoria, prioridade):\n",
        "        \"\"\"Adiciona um novo item ao inventário\"\"\"\n",
        "        item = Item(nome, categoria, subcategoria, prioridade)\n",
        "        self.itens.append(item)\n",
        "\n",
        "    def exibir_itens_prioridade(self):\n",
        "        \"\"\"Exibe os itens em ordem de prioridade\"\"\"\n",
        "        return sorted(self.itens, key=lambda item: item.prioridade)\n",
        "\n",
        "    def atribuir_custodia(self, nome_item, funcionario):\n",
        "        \"\"\"Atribui a custódia de um item a um funcionário\"\"\"\n",
        "        for item in self.itens:\n",
        "            if item.nome == nome_item:\n",
        "                item.adicionar_custodia(funcionario)\n",
        "                break\n",
        "\n",
        "    def reorganizar_por_prioridade(self):\n",
        "        \"\"\"Reorganiza os itens de acordo com a prioridade\"\"\"\n",
        "        self.itens.sort(key=lambda item: item.prioridade)\n",
        "\n",
        "# Exemplo de uso\n",
        "inventario = Inventario()\n",
        "\n",
        "# Adicionando itens ao inventário\n",
        "inventario.adicionar_item(\"Laptop\", \"Equipamentos Eletrônicos\", \"Laptops\", 1)\n",
        "inventario.adicionar_item(\"Smartphone\", \"Equipamentos Eletrônicos\", \"Smartphones\", 2)\n",
        "\n",
        "# Atribuindo custódia\n",
        "inventario.atribuir_custodia(\"Laptop\", \"João\")\n",
        "inventario.atribuir_custodia(\"Smartphone\", \"Maria\")\n",
        "\n",
        "# Exibindo itens em ordem de prioridade\n",
        "itens_prioridade = inventario.exibir_itens_prioridade()\n",
        "for item in itens_prioridade:\n",
        "    print(f\"Item: {item.nome}, Prioridade: {item.prioridade}, Custódia: {', '.join(item.custodia)}\")\n"
      ],
      "metadata": {
        "colab": {
          "base_uri": "https://localhost:8080/"
        },
        "id": "1YjKil23eLFh",
        "outputId": "7efcbe47-30ab-46ae-e6f7-d73cb91ac121"
      },
      "execution_count": 22,
      "outputs": [
        {
          "output_type": "stream",
          "name": "stdout",
          "text": [
            "Item: Laptop, Prioridade: 1, Custódia: João\n",
            "Item: Smartphone, Prioridade: 2, Custódia: Maria\n"
          ]
        }
      ]
    }
  ]
}